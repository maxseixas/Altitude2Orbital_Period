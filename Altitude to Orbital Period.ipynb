{
 "cells": [
  {
   "cell_type": "code",
   "execution_count": 1,
   "id": "9ee42d53",
   "metadata": {},
   "outputs": [
    {
     "name": "stdout",
     "output_type": "stream",
     "text": [
      "Enter your desired orbital period in seconds:200000\n",
      "The value of T is 200000.0 seconds\n",
      "The altitude needed for a orbital period of 200000.0 seconds is: 67521462.50414288 meters.\n",
      "The altitude required for an orbital period of 24 hours is: 35855910.176174976 meters\n",
      "The altitude required for an orbital period of 90 minutes is: 279321.6253728606 meters\n",
      "The altitude required for an orbital period of 45 minutes is: -2181559.8978108233 meters\n",
      "This is actually below the surface of the Earth, so this is impossible...\n",
      "The altitude required for a true geo-synchronous orbit, which has an orbital period of one sidereal day, is: 35773762.329895645 meters\n",
      "The difference in altitude between an orbit of one sidereal day and one synodic day is 82147.84627933055 meters.\n",
      "That's 82.14784627933055 kilometers!\n"
     ]
    }
   ],
   "source": [
    "from math import pi;\n",
    "# part b\n",
    "G=6.67e-11;\n",
    "M=5.97e24;\n",
    "R=6.371e6;\n",
    "def alt(P):\n",
    "    return ((G*M*P**2)/(4*pi**2))**(1/3) - R;\n",
    "\n",
    "temp=input(\"Enter your desired orbital period in seconds:\");\n",
    "T=float(temp);\n",
    "print(\"The value of T is\",T, \"seconds\");\n",
    "\n",
    "print(\"The altitude needed for a orbital period of\",T, \"seconds is:\", alt(T) , \"meters.\");\n",
    "\n",
    "\n",
    "# part c\n",
    "T1=24*3600;\n",
    "print(\"The altitude required for an orbital period of 24 hours is:\", alt(T1), \"meters\");\n",
    "\n",
    "T2=90*60;\n",
    "print(\"The altitude required for an orbital period of 90 minutes is:\", alt(T2), \"meters\");\n",
    "\n",
    "T3=45*60;\n",
    "print(\"The altitude required for an orbital period of 45 minutes is:\", alt(T3), \"meters\");\n",
    "print(\"This is actually below the surface of the Earth, so this is impossible...\")\n",
    "\n",
    "# part d\n",
    "Ts=23.93*3600;\n",
    "print(\"The altitude required for a true geo-synchronous orbit, which has an orbital period of one sidereal day, is:\", alt(Ts), \"meters\");\n",
    "print(\"The difference in altitude between an orbit of one sidereal day and one synodic day is\", alt(T1)-alt(Ts), \"meters.\");\n",
    "print(\"That's\", (alt(T1)-alt(Ts))/1000, \"kilometers!\")"
   ]
  }
 ],
 "metadata": {
  "kernelspec": {
   "display_name": "Python 3",
   "language": "python",
   "name": "python3"
  },
  "language_info": {
   "codemirror_mode": {
    "name": "ipython",
    "version": 3
   },
   "file_extension": ".py",
   "mimetype": "text/x-python",
   "name": "python",
   "nbconvert_exporter": "python",
   "pygments_lexer": "ipython3",
   "version": "3.8.8"
  }
 },
 "nbformat": 4,
 "nbformat_minor": 5
}
